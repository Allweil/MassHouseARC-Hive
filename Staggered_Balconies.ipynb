{
  "cells": [
    {
      "cell_type": "markdown",
      "metadata": {
        "id": "view-in-github",
        "colab_type": "text"
      },
      "source": [
        "<a href=\"https://colab.research.google.com/github/kartikeyadate/future_archive/blob/main/Staggered_Balconies.ipynb\" target=\"_parent\"><img src=\"https://colab.research.google.com/assets/colab-badge.svg\" alt=\"Open In Colab\"/></a>"
      ]
    },
    {
      "cell_type": "code",
      "execution_count": null,
      "metadata": {
        "id": "7wbmOHtYnJw5",
        "colab": {
          "base_uri": "https://localhost:8080/"
        },
        "outputId": "a120878b-25f5-4e51-e4ef-f3636163ea9d"
      },
      "outputs": [
        {
          "output_type": "stream",
          "name": "stdout",
          "text": [
            "Mounted at /content/gdrive\n"
          ]
        }
      ],
      "source": [
        "from google.colab import drive\n",
        "drive.mount(\"/content/gdrive\")\n",
        "#don't need to repeat this every run. Just when the notebook is first opened.\n"
      ]
    },
    {
      "cell_type": "code",
      "execution_count": null,
      "metadata": {
        "id": "zl33YPq3qwGU"
      },
      "outputs": [],
      "source": [
        "!cp /content/gdrive/MyDrive/data/dataset04.zip dataset04.zip"
      ]
    },
    {
      "cell_type": "code",
      "execution_count": null,
      "metadata": {
        "id": "NQ-vX4bwrOuD"
      },
      "outputs": [],
      "source": [
        "!unzip -qq dataset04.zip\n",
        "#!rm -rf dataset02/"
      ]
    },
    {
      "cell_type": "code",
      "execution_count": null,
      "metadata": {
        "colab": {
          "base_uri": "https://localhost:8080/"
        },
        "id": "DxVpKmBqq2Tm",
        "outputId": "afa956bf-c581-44cf-fc9d-f483680b936f"
      },
      "outputs": [
        {
          "output_type": "stream",
          "name": "stdout",
          "text": [
            "Found 9999 files belonging to 2 classes.\n",
            "Found 2500 files belonging to 2 classes.\n",
            "Found 1682 files belonging to 2 classes.\n",
            "data batch shape: (32, 400, 400, 3)\n",
            "labels batch shape (32,)\n"
          ]
        }
      ],
      "source": [
        "import shutil, os, pathlib\n",
        "#this is a utility provided by keras which takes images from a directory\n",
        "#and produces a dataset as a numpy array.\n",
        "\n",
        "from tensorflow.keras.utils import image_dataset_from_directory\n",
        "new_base_dir = pathlib.Path(\"dataset04\")\n",
        "img_size = (400, 400)\n",
        "batch_size = 32\n",
        "\n",
        "train_dataset = image_dataset_from_directory(\n",
        "    new_base_dir / \"train\",\n",
        "    image_size=img_size,\n",
        "    batch_size=batch_size)\n",
        "\n",
        "validation_dataset = image_dataset_from_directory(\n",
        "    new_base_dir / \"validation\",\n",
        "    image_size=img_size,\n",
        "    batch_size=batch_size)\n",
        "\n",
        "test_dataset = image_dataset_from_directory(\n",
        "    new_base_dir / \"test\",\n",
        "    image_size=img_size,\n",
        "    batch_size=batch_size)\n",
        "\n",
        "for db, lb in train_dataset:\n",
        "  print(\"data batch shape:\", db.shape)\n",
        "  print(\"labels batch shape\", lb.shape)\n",
        "  break\n",
        "\n"
      ]
    },
    {
      "cell_type": "markdown",
      "source": [
        "# New Section"
      ],
      "metadata": {
        "id": "GemYjkwVUl-H"
      }
    },
    {
      "cell_type": "code",
      "execution_count": null,
      "metadata": {
        "id": "IkSeq9G5pPOM",
        "colab": {
          "base_uri": "https://localhost:8080/"
        },
        "outputId": "de595788-419c-4c90-e1a9-b6ed6aff352b"
      },
      "outputs": [
        {
          "output_type": "stream",
          "name": "stdout",
          "text": [
            "Model: \"model\"\n",
            "_________________________________________________________________\n",
            " Layer (type)                Output Shape              Param #   \n",
            "=================================================================\n",
            " input_1 (InputLayer)        [(None, 400, 400, 3)]     0         \n",
            "                                                                 \n",
            " sequential (Sequential)     (None, 400, 400, 3)       0         \n",
            "                                                                 \n",
            " conv2d (Conv2D)             (None, 398, 398, 32)      896       \n",
            "                                                                 \n",
            " max_pooling2d (MaxPooling2D  (None, 199, 199, 32)     0         \n",
            " )                                                               \n",
            "                                                                 \n",
            " conv2d_1 (Conv2D)           (None, 197, 197, 32)      9248      \n",
            "                                                                 \n",
            " max_pooling2d_1 (MaxPooling  (None, 98, 98, 32)       0         \n",
            " 2D)                                                             \n",
            "                                                                 \n",
            " conv2d_2 (Conv2D)           (None, 96, 96, 64)        18496     \n",
            "                                                                 \n",
            " max_pooling2d_2 (MaxPooling  (None, 48, 48, 64)       0         \n",
            " 2D)                                                             \n",
            "                                                                 \n",
            " conv2d_3 (Conv2D)           (None, 46, 46, 128)       73856     \n",
            "                                                                 \n",
            " max_pooling2d_3 (MaxPooling  (None, 23, 23, 128)      0         \n",
            " 2D)                                                             \n",
            "                                                                 \n",
            " conv2d_4 (Conv2D)           (None, 21, 21, 128)       147584    \n",
            "                                                                 \n",
            " flatten (Flatten)           (None, 56448)             0         \n",
            "                                                                 \n",
            " dropout (Dropout)           (None, 56448)             0         \n",
            "                                                                 \n",
            " dense (Dense)               (None, 1)                 56449     \n",
            "                                                                 \n",
            "=================================================================\n",
            "Total params: 306,529\n",
            "Trainable params: 306,529\n",
            "Non-trainable params: 0\n",
            "_________________________________________________________________\n",
            "Epoch 1/20\n",
            "313/313 [==============================] - 52s 131ms/step - loss: 1.8403 - accuracy: 0.7573 - val_loss: 0.6575 - val_accuracy: 0.8420\n",
            "Epoch 2/20\n",
            "313/313 [==============================] - 41s 129ms/step - loss: 0.6444 - accuracy: 0.7937 - val_loss: 0.4943 - val_accuracy: 0.8440\n",
            "Epoch 3/20\n",
            "313/313 [==============================] - 41s 129ms/step - loss: 0.4905 - accuracy: 0.8332 - val_loss: 0.4644 - val_accuracy: 0.8456\n",
            "Epoch 4/20\n",
            "313/313 [==============================] - 40s 128ms/step - loss: 0.4602 - accuracy: 0.8474 - val_loss: 0.4548 - val_accuracy: 0.8464\n",
            "Epoch 5/20\n",
            "313/313 [==============================] - 41s 129ms/step - loss: 0.4477 - accuracy: 0.8508 - val_loss: 0.4577 - val_accuracy: 0.8464\n",
            "Epoch 6/20\n",
            "313/313 [==============================] - 40s 128ms/step - loss: 0.4416 - accuracy: 0.8526 - val_loss: 0.4502 - val_accuracy: 0.8464\n",
            "Epoch 7/20\n",
            "313/313 [==============================] - 40s 127ms/step - loss: 0.4382 - accuracy: 0.8525 - val_loss: 0.4448 - val_accuracy: 0.8464\n",
            "Epoch 8/20\n",
            "313/313 [==============================] - 40s 127ms/step - loss: 0.4330 - accuracy: 0.8527 - val_loss: 0.4516 - val_accuracy: 0.8464\n",
            "Epoch 9/20\n",
            "313/313 [==============================] - 41s 129ms/step - loss: 0.4401 - accuracy: 0.8530 - val_loss: 0.4454 - val_accuracy: 0.8464\n",
            "Epoch 10/20\n",
            "313/313 [==============================] - 41s 129ms/step - loss: 0.4350 - accuracy: 0.8530 - val_loss: 0.4405 - val_accuracy: 0.8464\n",
            "Epoch 11/20\n",
            "313/313 [==============================] - 41s 129ms/step - loss: 0.4317 - accuracy: 0.8530 - val_loss: 0.4376 - val_accuracy: 0.8464\n",
            "Epoch 12/20\n",
            "313/313 [==============================] - 41s 129ms/step - loss: 0.4312 - accuracy: 0.8532 - val_loss: 0.4413 - val_accuracy: 0.8464\n",
            "Epoch 13/20\n",
            "313/313 [==============================] - 41s 129ms/step - loss: 0.4288 - accuracy: 0.8532 - val_loss: 0.4357 - val_accuracy: 0.8464\n",
            "Epoch 14/20\n",
            "313/313 [==============================] - 41s 130ms/step - loss: 0.4300 - accuracy: 0.8532 - val_loss: 0.4410 - val_accuracy: 0.8464\n",
            "Epoch 15/20\n",
            "313/313 [==============================] - 41s 129ms/step - loss: 0.4292 - accuracy: 0.8532 - val_loss: 0.4438 - val_accuracy: 0.8464\n",
            "Epoch 16/20\n",
            "313/313 [==============================] - 41s 130ms/step - loss: 0.4281 - accuracy: 0.8533 - val_loss: 0.4375 - val_accuracy: 0.8464\n",
            "Epoch 17/20\n",
            "313/313 [==============================] - 41s 130ms/step - loss: 0.4284 - accuracy: 0.8532 - val_loss: 0.4355 - val_accuracy: 0.8464\n",
            "Epoch 18/20\n",
            "313/313 [==============================] - 41s 129ms/step - loss: 0.4298 - accuracy: 0.8532 - val_loss: 0.4385 - val_accuracy: 0.8464\n",
            "Epoch 19/20\n",
            "313/313 [==============================] - 41s 128ms/step - loss: 0.4288 - accuracy: 0.8532 - val_loss: 0.4389 - val_accuracy: 0.8464\n",
            "Epoch 20/20\n",
            "313/313 [==============================] - 41s 129ms/step - loss: 0.4277 - accuracy: 0.8532 - val_loss: 0.4514 - val_accuracy: 0.8464\n"
          ]
        }
      ],
      "source": [
        "#Defining a basic image classification convnet. \n",
        "#There are 2 output layers - \"present\" and \"absent\".\n",
        "#The input data is a 400x400x3 image.\n",
        "\n",
        "from tensorflow import keras\n",
        "from tensorflow.keras import layers\n",
        "inputs = keras.Input(shape=(400, 400,3))\n",
        "data_augmentation = keras.Sequential(\n",
        "    [\n",
        "     layers.RandomRotation(0.15),\n",
        "     layers.RandomZoom(0.3)\n",
        "    ]\n",
        ")\n",
        "x = layers.Rescaling(1./255.0) (inputs)\n",
        "x = data_augmentation(inputs)\n",
        "x = layers.Conv2D(filters=32, kernel_size=3, activation=\"relu\") (x)\n",
        "x = layers.MaxPooling2D(pool_size=2) (x)\n",
        "x = layers.Conv2D(filters=32, kernel_size=3, activation=\"relu\") (x)\n",
        "x = layers.MaxPooling2D(pool_size=2) (x)\n",
        "x = layers.Conv2D(filters=64, kernel_size=3, activation=\"relu\") (x)\n",
        "x = layers.MaxPooling2D(pool_size=2) (x)\n",
        "x = layers.Conv2D(filters=128, kernel_size=3, activation=\"relu\") (x)\n",
        "x = layers.MaxPooling2D(pool_size=2) (x)\n",
        "x = layers.Conv2D(filters=128, kernel_size=3, activation=\"relu\") (x)\n",
        "x = layers.Flatten()(x)\n",
        "x = layers.Dropout(0.5)(x)\n",
        "outputs = layers.Dense(1, activation=\"sigmoid\") (x)\n",
        "model = keras.Model(inputs=inputs, outputs=outputs)\n",
        "\n",
        "model.compile(loss=\"binary_crossentropy\",\n",
        "              optimizer=keras.optimizers.Adam(1e-5),\n",
        "              metrics=[\"accuracy\"])\n",
        "\n",
        "callbacks = [\n",
        "             keras.callbacks.ModelCheckpoint(filepath=\"staggered_balconies_01.keras\",\n",
        "                                             save_best_only=True,\n",
        "                                             monitor=\"val_loss\")\n",
        "]\n",
        "\n",
        "model.summary()\n",
        "\n",
        "history = model.fit(train_dataset, epochs=20, \n",
        "                    validation_data=validation_dataset, callbacks=callbacks)\n"
      ]
    },
    {
      "cell_type": "code",
      "execution_count": null,
      "metadata": {
        "colab": {
          "base_uri": "https://localhost:8080/",
          "height": 545
        },
        "id": "Nn1UYzGjwN0C",
        "outputId": "afd2974b-5a84-4652-c634-c1b1624f53f9"
      },
      "outputs": [
        {
          "output_type": "display_data",
          "data": {
            "image/png": "[encoded data removed]",
            "text/plain": [
              "<Figure size 432x288 with 1 Axes>"
            ]
          },
          "metadata": {
            "needs_background": "light"
          }
        },
        {
          "output_type": "display_data",
          "data": {
            "image/png": "[encoded data removed]",
            "text/plain": [
              "<Figure size 432x288 with 1 Axes>"
            ]
          },
          "metadata": {
            "needs_background": "light"
          }
        }
      ],
      "source": [
        "import matplotlib.pyplot as plt\n",
        "accuracy = history.history[\"accuracy\"]\n",
        "val_accuracy = history.history[\"val_accuracy\"]\n",
        "loss = history.history[\"loss\"]\n",
        "val_loss = history.history[\"val_loss\"]\n",
        "epochs = range(1, len(accuracy)+1)\n",
        "plt.plot(epochs, accuracy, \"bo\", label=\"Training accuracy\")\n",
        "plt.plot(epochs, val_accuracy, \"b\", label=\"Validation accuracy\")\n",
        "plt.title(\"Training and validation accuracy\")\n",
        "plt.legend()\n",
        "plt.figure()\n",
        "plt.plot(epochs, loss, \"bo\", label=\"Training loss\")\n",
        "plt.plot(epochs, val_loss, \"b\", label=\"Validation loss\")\n",
        "plt.title(\"Training and validation loss\")\n",
        "plt.legend()\n",
        "plt.show()"
      ]
    },
    {
      "cell_type": "code",
      "execution_count": null,
      "metadata": {
        "colab": {
          "base_uri": "https://localhost:8080/"
        },
        "id": "TgDAyREtxStV",
        "outputId": "802cc4b2-4516-4457-ce00-a78256f8b26e"
      },
      "outputs": [
        {
          "name": "stdout",
          "output_type": "stream",
          "text": [
            "116/116 [==============================] - 5s 43ms/step - loss: 0.4267 - accuracy: 0.8477\n",
            "Test accuracy: 0.848\n"
          ]
        }
      ],
      "source": [
        "test_model = keras.models.load_model(\"staggered_balconies_01.keras\")\n",
        "test_loss, test_acc = test_model.evaluate(test_dataset)\n",
        "print(f\"Test accuracy: {test_acc:.3f}\")"
      ]
    },
    {
      "cell_type": "code",
      "execution_count": null,
      "metadata": {
        "id": "xwTAvVjTxx8_"
      },
      "outputs": [],
      "source": [
        "data_augmentation = keras.Sequential(\n",
        "    [\n",
        "     layers.RandomZoom(0.5)\n",
        "    ]\n",
        ")"
      ]
    },
    {
      "cell_type": "code",
      "execution_count": null,
      "metadata": {
        "colab": {
          "base_uri": "https://localhost:8080/"
        },
        "id": "Slb429lhyFRN",
        "outputId": "4a24009b-c63c-4b8e-b5a2-42220a30d101"
      },
      "outputs": [
        {
          "output_type": "stream",
          "name": "stdout",
          "text": [
            "Epoch 1/30\n",
            "313/313 [==============================] - 52s 157ms/step - loss: 0.4376 - accuracy: 0.8526 - val_loss: 0.4344 - val_accuracy: 0.8464\n",
            "Epoch 2/30\n",
            "313/313 [==============================] - 46s 147ms/step - loss: 0.4240 - accuracy: 0.8532 - val_loss: 0.4340 - val_accuracy: 0.8464\n",
            "Epoch 3/30\n",
            "313/313 [==============================] - 47s 148ms/step - loss: 0.4239 - accuracy: 0.8532 - val_loss: 0.4338 - val_accuracy: 0.8464\n",
            "Epoch 4/30\n",
            "313/313 [==============================] - 47s 149ms/step - loss: 0.4230 - accuracy: 0.8532 - val_loss: 0.4337 - val_accuracy: 0.8464\n",
            "Epoch 5/30\n",
            "313/313 [==============================] - 47s 149ms/step - loss: 0.4227 - accuracy: 0.8532 - val_loss: 0.4335 - val_accuracy: 0.8464\n",
            "Epoch 6/30\n",
            "313/313 [==============================] - 47s 148ms/step - loss: 0.4225 - accuracy: 0.8532 - val_loss: 0.4335 - val_accuracy: 0.8464\n",
            "Epoch 7/30\n",
            "313/313 [==============================] - 47s 148ms/step - loss: 0.4219 - accuracy: 0.8532 - val_loss: 0.4333 - val_accuracy: 0.8464\n",
            "Epoch 8/30\n",
            "313/313 [==============================] - 47s 149ms/step - loss: 0.4225 - accuracy: 0.8532 - val_loss: 0.4332 - val_accuracy: 0.8464\n",
            "Epoch 9/30\n",
            "313/313 [==============================] - 47s 147ms/step - loss: 0.4212 - accuracy: 0.8532 - val_loss: 0.4342 - val_accuracy: 0.8464\n",
            "Epoch 10/30\n",
            "313/313 [==============================] - 48s 151ms/step - loss: 0.4211 - accuracy: 0.8532 - val_loss: 0.4326 - val_accuracy: 0.8464\n",
            "Epoch 11/30\n",
            "313/313 [==============================] - 47s 150ms/step - loss: 0.4203 - accuracy: 0.8532 - val_loss: 0.4330 - val_accuracy: 0.8464\n",
            "Epoch 12/30\n",
            "313/313 [==============================] - 51s 160ms/step - loss: 0.4192 - accuracy: 0.8532 - val_loss: 0.4323 - val_accuracy: 0.8464\n",
            "Epoch 13/30\n",
            "313/313 [==============================] - 48s 153ms/step - loss: 0.4204 - accuracy: 0.8532 - val_loss: 0.4331 - val_accuracy: 0.8464\n",
            "Epoch 14/30\n",
            "313/313 [==============================] - 48s 153ms/step - loss: 0.4197 - accuracy: 0.8532 - val_loss: 0.4321 - val_accuracy: 0.8464\n",
            "Epoch 15/30\n",
            "313/313 [==============================] - 48s 153ms/step - loss: 0.4192 - accuracy: 0.8532 - val_loss: 0.4330 - val_accuracy: 0.8464\n",
            "Epoch 16/30\n",
            "313/313 [==============================] - 48s 151ms/step - loss: 0.4195 - accuracy: 0.8532 - val_loss: 0.4318 - val_accuracy: 0.8464\n",
            "Epoch 17/30\n",
            "313/313 [==============================] - 48s 152ms/step - loss: 0.4191 - accuracy: 0.8532 - val_loss: 0.4318 - val_accuracy: 0.8464\n",
            "Epoch 18/30\n",
            "313/313 [==============================] - 48s 150ms/step - loss: 0.4184 - accuracy: 0.8532 - val_loss: 0.4322 - val_accuracy: 0.8464\n",
            "Epoch 19/30\n",
            "313/313 [==============================] - 48s 151ms/step - loss: 0.4180 - accuracy: 0.8532 - val_loss: 0.4316 - val_accuracy: 0.8464\n",
            "Epoch 20/30\n",
            "313/313 [==============================] - 48s 151ms/step - loss: 0.4182 - accuracy: 0.8532 - val_loss: 0.4314 - val_accuracy: 0.8464\n",
            "Epoch 21/30\n",
            "313/313 [==============================] - 48s 153ms/step - loss: 0.4182 - accuracy: 0.8532 - val_loss: 0.4314 - val_accuracy: 0.8464\n",
            "Epoch 22/30\n",
            "313/313 [==============================] - 47s 150ms/step - loss: 0.4179 - accuracy: 0.8532 - val_loss: 0.4318 - val_accuracy: 0.8464\n",
            "Epoch 23/30\n",
            "313/313 [==============================] - 48s 151ms/step - loss: 0.4183 - accuracy: 0.8532 - val_loss: 0.4318 - val_accuracy: 0.8464\n",
            "Epoch 24/30\n",
            "313/313 [==============================] - 48s 152ms/step - loss: 0.4184 - accuracy: 0.8532 - val_loss: 0.4314 - val_accuracy: 0.8464\n",
            "Epoch 25/30\n",
            "313/313 [==============================] - 47s 149ms/step - loss: 0.4179 - accuracy: 0.8532 - val_loss: 0.4315 - val_accuracy: 0.8464\n",
            "Epoch 26/30\n",
            "313/313 [==============================] - 48s 152ms/step - loss: 0.4173 - accuracy: 0.8532 - val_loss: 0.4317 - val_accuracy: 0.8464\n",
            "Epoch 27/30\n",
            "313/313 [==============================] - 48s 151ms/step - loss: 0.4174 - accuracy: 0.8532 - val_loss: 0.4310 - val_accuracy: 0.8464\n",
            "Epoch 28/30\n",
            "313/313 [==============================] - 48s 153ms/step - loss: 0.4168 - accuracy: 0.8532 - val_loss: 0.4327 - val_accuracy: 0.8464\n",
            "Epoch 29/30\n",
            "313/313 [==============================] - 48s 151ms/step - loss: 0.4174 - accuracy: 0.8532 - val_loss: 0.4314 - val_accuracy: 0.8464\n",
            "Epoch 30/30\n",
            "313/313 [==============================] - 48s 151ms/step - loss: 0.4173 - accuracy: 0.8532 - val_loss: 0.4316 - val_accuracy: 0.8464\n"
          ]
        }
      ],
      "source": [
        "#Define the model with data augmentation.\n",
        "inputs = keras.Input(shape=(400, 400, 3))\n",
        "x = data_augmentation(inputs)\n",
        "x = layers.Rescaling(1./255)(x)\n",
        "x = layers.Conv2D(filters=32, kernel_size=3, activation=\"relu\")(x)\n",
        "x = layers.MaxPooling2D(pool_size=2)(x)\n",
        "x = layers.Conv2D(filters=64, kernel_size=3, activation=\"relu\")(x)\n",
        "x = layers.MaxPooling2D(pool_size=2)(x)\n",
        "x = layers.Conv2D(filters=128, kernel_size=3, activation=\"relu\")(x)\n",
        "x = layers.MaxPooling2D(pool_size=2)(x)\n",
        "x = layers.Conv2D(filters=256, kernel_size=3, activation=\"relu\")(x)\n",
        "x = layers.MaxPooling2D(pool_size=2)(x)\n",
        "x = layers.Conv2D(filters=256, kernel_size=3, activation=\"relu\")(x)\n",
        "x = layers.Flatten()(x)\n",
        "x = layers.Dropout(0.5)(x)\n",
        "outputs = layers.Dense(1, activation=\"sigmoid\")(x)\n",
        "model = keras.Model(inputs=inputs, outputs=outputs)\n",
        "\n",
        "\n",
        "model.compile(loss=\"binary_crossentropy\",\n",
        "              optimizer=keras.optimizers.Adam(1e-5),\n",
        "              metrics=[\"accuracy\"])\n",
        "\n",
        "callbacks = [\n",
        "             keras.callbacks.ModelCheckpoint(\n",
        "                 filepath=\"staggered_balconies_01_with_augmentation.keras\",\n",
        "                 save_best_only=True,\n",
        "                 monitor=\"val_loss\")\n",
        "]\n",
        "history = model.fit(train_dataset, epochs=30,\n",
        "                    validation_data=validation_dataset,\n",
        "                    callbacks=callbacks)\n"
      ]
    },
    {
      "cell_type": "code",
      "execution_count": null,
      "metadata": {
        "colab": {
          "base_uri": "https://localhost:8080/"
        },
        "outputId": "de595788-419c-4c90-e1a9-b6ed6aff352b",
        "id": "ODoLpfaPJPKu"
      },
      "outputs": [
        {
          "output_type": "stream",
          "name": "stdout",
          "text": [
            "Model: \"model\"\n",
            "_________________________________________________________________\n",
            " Layer (type)                Output Shape              Param #   \n",
            "=================================================================\n",
            " input_1 (InputLayer)        [(None, 400, 400, 3)]     0         \n",
            "                                                                 \n",
            " sequential (Sequential)     (None, 400, 400, 3)       0         \n",
            "                                                                 \n",
            " conv2d (Conv2D)             (None, 398, 398, 32)      896       \n",
            "                                                                 \n",
            " max_pooling2d (MaxPooling2D  (None, 199, 199, 32)     0         \n",
            " )                                                               \n",
            "                                                                 \n",
            " conv2d_1 (Conv2D)           (None, 197, 197, 32)      9248      \n",
            "                                                                 \n",
            " max_pooling2d_1 (MaxPooling  (None, 98, 98, 32)       0         \n",
            " 2D)                                                             \n",
            "                                                                 \n",
            " conv2d_2 (Conv2D)           (None, 96, 96, 64)        18496     \n",
            "                                                                 \n",
            " max_pooling2d_2 (MaxPooling  (None, 48, 48, 64)       0         \n",
            " 2D)                                                             \n",
            "                                                                 \n",
            " conv2d_3 (Conv2D)           (None, 46, 46, 128)       73856     \n",
            "                                                                 \n",
            " max_pooling2d_3 (MaxPooling  (None, 23, 23, 128)      0         \n",
            " 2D)                                                             \n",
            "                                                                 \n",
            " conv2d_4 (Conv2D)           (None, 21, 21, 128)       147584    \n",
            "                                                                 \n",
            " flatten (Flatten)           (None, 56448)             0         \n",
            "                                                                 \n",
            " dropout (Dropout)           (None, 56448)             0         \n",
            "                                                                 \n",
            " dense (Dense)               (None, 1)                 56449     \n",
            "                                                                 \n",
            "=================================================================\n",
            "Total params: 306,529\n",
            "Trainable params: 306,529\n",
            "Non-trainable params: 0\n",
            "_________________________________________________________________\n",
            "Epoch 1/20\n",
            "313/313 [==============================] - 52s 131ms/step - loss: 1.8403 - accuracy: 0.7573 - val_loss: 0.6575 - val_accuracy: 0.8420\n",
            "Epoch 2/20\n",
            "313/313 [==============================] - 41s 129ms/step - loss: 0.6444 - accuracy: 0.7937 - val_loss: 0.4943 - val_accuracy: 0.8440\n",
            "Epoch 3/20\n",
            "313/313 [==============================] - 41s 129ms/step - loss: 0.4905 - accuracy: 0.8332 - val_loss: 0.4644 - val_accuracy: 0.8456\n",
            "Epoch 4/20\n",
            "313/313 [==============================] - 40s 128ms/step - loss: 0.4602 - accuracy: 0.8474 - val_loss: 0.4548 - val_accuracy: 0.8464\n",
            "Epoch 5/20\n",
            "313/313 [==============================] - 41s 129ms/step - loss: 0.4477 - accuracy: 0.8508 - val_loss: 0.4577 - val_accuracy: 0.8464\n",
            "Epoch 6/20\n",
            "313/313 [==============================] - 40s 128ms/step - loss: 0.4416 - accuracy: 0.8526 - val_loss: 0.4502 - val_accuracy: 0.8464\n",
            "Epoch 7/20\n",
            "313/313 [==============================] - 40s 127ms/step - loss: 0.4382 - accuracy: 0.8525 - val_loss: 0.4448 - val_accuracy: 0.8464\n",
            "Epoch 8/20\n",
            "313/313 [==============================] - 40s 127ms/step - loss: 0.4330 - accuracy: 0.8527 - val_loss: 0.4516 - val_accuracy: 0.8464\n",
            "Epoch 9/20\n",
            "313/313 [==============================] - 41s 129ms/step - loss: 0.4401 - accuracy: 0.8530 - val_loss: 0.4454 - val_accuracy: 0.8464\n",
            "Epoch 10/20\n",
            "313/313 [==============================] - 41s 129ms/step - loss: 0.4350 - accuracy: 0.8530 - val_loss: 0.4405 - val_accuracy: 0.8464\n",
            "Epoch 11/20\n",
            "313/313 [==============================] - 41s 129ms/step - loss: 0.4317 - accuracy: 0.8530 - val_loss: 0.4376 - val_accuracy: 0.8464\n",
            "Epoch 12/20\n",
            "313/313 [==============================] - 41s 129ms/step - loss: 0.4312 - accuracy: 0.8532 - val_loss: 0.4413 - val_accuracy: 0.8464\n",
            "Epoch 13/20\n",
            "313/313 [==============================] - 41s 129ms/step - loss: 0.4288 - accuracy: 0.8532 - val_loss: 0.4357 - val_accuracy: 0.8464\n",
            "Epoch 14/20\n",
            "313/313 [==============================] - 41s 130ms/step - loss: 0.4300 - accuracy: 0.8532 - val_loss: 0.4410 - val_accuracy: 0.8464\n",
            "Epoch 15/20\n",
            "313/313 [==============================] - 41s 129ms/step - loss: 0.4292 - accuracy: 0.8532 - val_loss: 0.4438 - val_accuracy: 0.8464\n",
            "Epoch 16/20\n",
            "313/313 [==============================] - 41s 130ms/step - loss: 0.4281 - accuracy: 0.8533 - val_loss: 0.4375 - val_accuracy: 0.8464\n",
            "Epoch 17/20\n",
            "313/313 [==============================] - 41s 130ms/step - loss: 0.4284 - accuracy: 0.8532 - val_loss: 0.4355 - val_accuracy: 0.8464\n",
            "Epoch 18/20\n",
            "313/313 [==============================] - 41s 129ms/step - loss: 0.4298 - accuracy: 0.8532 - val_loss: 0.4385 - val_accuracy: 0.8464\n",
            "Epoch 19/20\n",
            "313/313 [==============================] - 41s 128ms/step - loss: 0.4288 - accuracy: 0.8532 - val_loss: 0.4389 - val_accuracy: 0.8464\n",
            "Epoch 20/20\n",
            "313/313 [==============================] - 41s 129ms/step - loss: 0.4277 - accuracy: 0.8532 - val_loss: 0.4514 - val_accuracy: 0.8464\n"
          ]
        }
      ],
      "source": [
        "#Defining a basic image classification convnet. \n",
        "#There are 2 output layers - \"present\" and \"absent\".\n",
        "#The input data is a 400x400x3 image.\n",
        "\n",
        "from tensorflow import keras\n",
        "from tensorflow.keras import layers\n",
        "inputs = keras.Input(shape=(400, 400,3))\n",
        "data_augmentation = keras.Sequential(\n",
        "    [\n",
        "     layers.RandomRotation(0.15),\n",
        "     layers.RandomZoom(0.3)\n",
        "    ]\n",
        ")\n",
        "x = layers.Rescaling(1./255.0) (inputs)\n",
        "x = data_augmentation(inputs)\n",
        "x = layers.Conv2D(filters=32, kernel_size=3, activation=\"relu\") (x)\n",
        "x = layers.MaxPooling2D(pool_size=2) (x)\n",
        "x = layers.Conv2D(filters=32, kernel_size=3, activation=\"relu\") (x)\n",
        "x = layers.MaxPooling2D(pool_size=2) (x)\n",
        "x = layers.Conv2D(filters=64, kernel_size=3, activation=\"relu\") (x)\n",
        "x = layers.MaxPooling2D(pool_size=2) (x)\n",
        "x = layers.Conv2D(filters=128, kernel_size=3, activation=\"relu\") (x)\n",
        "x = layers.MaxPooling2D(pool_size=2) (x)\n",
        "x = layers.Conv2D(filters=128, kernel_size=3, activation=\"relu\") (x)\n",
        "x = layers.Flatten()(x)\n",
        "x = layers.Dropout(0.5)(x)\n",
        "outputs = layers.Dense(1, activation=\"sigmoid\") (x)\n",
        "model = keras.Model(inputs=inputs, outputs=outputs)\n",
        "\n",
        "model.compile(loss=\"binary_crossentropy\",\n",
        "              optimizer=keras.optimizers.Adam(1e-5),\n",
        "              metrics=[\"accuracy\"])\n",
        "\n",
        "callbacks = [\n",
        "             keras.callbacks.ModelCheckpoint(filepath=\"staggered_balconies_01.keras\",\n",
        "                                             save_best_only=True,\n",
        "                                             monitor=\"val_loss\")\n",
        "]\n",
        "\n",
        "model.summary()\n",
        "\n",
        "history = model.fit(train_dataset, epochs=20, \n",
        "                    validation_data=validation_dataset, callbacks=callbacks)\n"
      ]
    },
    {
      "cell_type": "code",
      "execution_count": null,
      "metadata": {
        "id": "0Ibn_sLv-_Bt"
      },
      "outputs": [],
      "source": [
        "test_model = keras.models.load_model(\"staggered_balconies_01.keras\")\n",
        "test_loss, test_acc = test_model.evaluate(test_dataset)\n",
        "print(f\"Test accuracy: {test_acc:.3f}\")"
      ]
    },
    {
      "cell_type": "code",
      "execution_count": null,
      "metadata": {
        "id": "nf39nTW92Zxu",
        "colab": {
          "base_uri": "https://localhost:8080/",
          "height": 545
        },
        "outputId": "1a51afb0-eebf-48eb-d5a7-49cd77bf4378"
      },
      "outputs": [
        {
          "output_type": "display_data",
          "data": {
            "image/png": "[encoded data removed]",
            "text/plain": [
              "<Figure size 432x288 with 1 Axes>"
            ]
          },
          "metadata": {
            "needs_background": "light"
          }
        },
        {
          "output_type": "display_data",
          "data": {
            "image/png": "[encoded data removed]",
            "text/plain": [
              "<Figure size 432x288 with 1 Axes>"
            ]
          },
          "metadata": {
            "needs_background": "light"
          }
        }
      ],
      "source": [
        "import matplotlib.pyplot as plt\n",
        "accuracy = history.history[\"accuracy\"]\n",
        "val_accuracy = history.history[\"val_accuracy\"]\n",
        "loss = history.history[\"loss\"]\n",
        "val_loss = history.history[\"val_loss\"]\n",
        "epochs = range(1, len(accuracy)+1)\n",
        "plt.plot(epochs, accuracy, \"bo\", label=\"Training accuracy\")\n",
        "plt.plot(epochs, val_accuracy, \"b\", label=\"Validation accuracy\")\n",
        "plt.title(\"Training and validation accuracy\")\n",
        "plt.legend()\n",
        "plt.figure()\n",
        "plt.plot(epochs, loss, \"bo\", label=\"Training loss\")\n",
        "plt.plot(epochs, val_loss, \"b\", label=\"Validation loss\")\n",
        "plt.title(\"Training and validation loss\")\n",
        "plt.legend()\n",
        "plt.show()"
      ]
    }
  ],
  "metadata": {
    "accelerator": "GPU",
    "colab": {
      "collapsed_sections": [],
      "provenance": [],
      "toc_visible": true,
      "mount_file_id": "1GaBU_nY7ZLCR0oDIJTksrBl81gmITCCG",
      "authorship_tag": "ABX9TyNK9VEy0IUUho5o3tViUZVt",
      "include_colab_link": true
    },
    "kernelspec": {
      "display_name": "Python 3",
      "name": "python3"
    },
    "language_info": {
      "name": "python"
    }
  },
  "nbformat": 4,
  "nbformat_minor": 0
}